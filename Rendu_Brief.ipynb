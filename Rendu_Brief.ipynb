{
 "cells": [
  {
   "cell_type": "markdown",
   "metadata": {},
   "source": [
    "## Partie 1 : Chargement et Exploration des Données ##\n",
    "\n",
    "- Filtre 1: basées aux USA\n",
    "- Filtre 2: Change Habits (No)\n",
    "- Filtre 3: Mood swings (High)\n",
    "- Filtre 4: Work Interest (Maybe)\n",
    "- Filtre 5: Social weakness (Yes)\n",
    "\n",
    "Fait sur VIM"
   ]
  },
  {
   "cell_type": "code",
   "execution_count": null,
   "metadata": {},
   "outputs": [],
   "source": [
    "#!/bin/bash\n",
    "\n",
    "# SET UP : \n",
    "import pandas as pd\n",
    "csv_file_path = '/home/guilhem/Téléchargements/Mental_Health_Dataset(1).csv'\n",
    "data = pd.read_csv(csv_file_path)\n",
    "\n",
    "# Nettoyage du dataset => suppression des doublons\n",
    "data_clean = data.drop_duplicates()\n",
    "\n",
    "# 1er filtre : par pays (United States)\n",
    "\n",
    "nombre_personne_US = data_clean['Country'].value_counts().get('United States', 0)\n",
    "print(\"Le nombre de personnes vivant aux états-unis:\", nombre_personne_US)\n",
    "\n",
    "# 2eme filtre : change habits \n",
    "\n",
    "change_habits = data_clean['Changes_Habits'].value_counts().get('No', 0)\n",
    "print(\"Le nombre de personnes qui ne changent pas leur habitudes: \", change_habits)\n",
    "\n",
    "# 3eme filtre : Mood Swings (High)\n",
    "\n",
    "mood_swing = data_clean['Mood_Swings'].value_counts().get('High', 0)\n",
    "print(\"Le nombre de personnes avec beaucoup d'humeur changeant:\", mood_swing)\n",
    "\n",
    "# 4eme filtre : Work Interest (Maybe)\n",
    "\n",
    "work_interest = data_clean['Work_Interest'].value_counts().get('Maybe', 0)\n",
    "print(\"Le nombre de personnes avec un interêt pour le travail: \", work_interest)\n",
    "\n",
    "# 5eme filtre : Social weakness (Yes)\n",
    "\n",
    "social_weakness = data_clean['Social_Weakness'].value_counts().get('Yes', 0)\n",
    "print(\"Le nombre de personnnes avec une faiblesse social: \", social_weakness)\n"
   ]
  },
  {
   "cell_type": "markdown",
   "metadata": {},
   "source": [
    "### Partie 2 : Filtrage des données et calculs statistiques ###\n",
    "\n",
    "- Moyenne\n",
    "- Médiane\n",
    "- Mode\n",
    "- Variance\n",
    "- Ecart-Type\n",
    "- Corrélation\n",
    "\n",
    "Fait avec gedit"
   ]
  },
  {
   "cell_type": "code",
   "execution_count": null,
   "metadata": {},
   "outputs": [],
   "source": [
    "#!/usr/bin/env python3\n",
    "import numpy as np\n",
    "import pandas as pd\n",
    "\n",
    "csv_file_path = '/home/safe/tpss/data/study_performance.csv'\n",
    "data = pd.read_csv(csv_file_path)\n",
    "print(data.head())\n",
    "\n",
    "moyenne_math_score = data[\"math_score\"].mean()\n",
    "print(\"moyenne_math_score:\", moyenne_math_score)\n",
    "\n",
    "moyenne_reading_score = data[\"reading_score\"].mean()\n",
    "print(\"moyenne_reading_score:\", moyenne_reading_score)\n",
    "\n",
    "moyenne_writing_score = data[\"writing_score\"].mean()\n",
    "print(\"moyenne_writing_score:\", moyenne_writing_score)\n",
    "\n",
    "median_math_score = data[\"math_score\"].median()\n",
    "print(\"median math_score:\", median_math_score)\n",
    "\n",
    "median_reading_score = data[\"reading_score\"].median()\n",
    "print(\"median_reading_score:\", median_reading_score)\n",
    "\n",
    "median_writing_score = data[\"writing_score\"].median()\n",
    "print(\"median writing_score:\", median_writing_score)\n",
    "\n",
    "mode_math_score = data[\"math_score\"].mode()\n",
    "print(\"mode_math_score:\", mode_math_score)\n",
    "\n",
    "mode_reading_score = data[\"reading_score\"].mode()\n",
    "print(\"mode_reading_score:\", mode_reading_score)\n",
    "\n",
    "mode_writing_score = data[\"writing_score\"].mode()\n",
    "print(\"mode_writing_score:\", mode_writing_score)\n",
    "\n",
    "variance_math_score = data[\"math_score\"].var()\n",
    "print(\"variance_math_score:\", variance_math_score)\n",
    "\n",
    "variance_reading_score = data[\"reading_score\"].var()\n",
    "print(\"variance_reading_score:\", variance_reading_score)\n",
    "\n",
    "variance_writing_score = data[\"writing_score\"].var()\n",
    "print(\"variance_writing_score:\", variance_writing_score)\n",
    "print(\"median_reading_score:\", median_reading_score)\n",
    "median_writing_score = data[\"writing_score\"].median()\n",
    "print(\"median writing_score:\", median_writing_score)\n",
    "\n",
    "mode_math_score = data[\"math_score\"].mode()\n",
    "print(\"mode_math_score:\", mode_math_score)\n",
    "\n",
    "mode_reading_score = data[\"reading_score\"].mode()\n",
    "print(\"mode_reading_score:\", mode_reading_score)\n",
    "\n",
    "mode_writing_score = data[\"writing_score\"].mode()\n",
    "print(\"mode_writing_score:\", mode_writing_score)\n",
    "\n",
    "variance_math_score = data[\"math_score\"].var()\n",
    "print(\"variance_math_score:\", variance_math_score)\n",
    "\n",
    "variance_reading_score = data[\"reading_score\"].var()\n",
    "print(\"variance_reading_score:\", variance_reading_score)\n",
    "\n",
    "variance_writing_score = data[\"writing_score\"].var()\n",
    "print(\"variance_writing_score:\", variance_writing_score)\n",
    "\n",
    "ecarttype_math_score = data[\"math_score\"].std()\n",
    "print(\"ecarttype_math_score:\", ecarttype_math_score)\n",
    "\n",
    "ecarttype_reading_score = data[\"reading_score\"].std()\n",
    "print(\"ecarttype_reading_score:\", ecarttype_reading_score)\n",
    "\n",
    "ecarttype_writing_score = data[\"writing_score\"].std()\n",
    "print(\"ecarttype_writing_score:\", ecarttype_writing_score)\n",
    "\n",
    "correlation = data[\"math_score\"].corr(data[\"reading_score\"])\n",
    "print(\"correlation math/reading:\", correlation)\n",
    "\n",
    "correlation = data[\"reading_score\"].corr(data[\"writing_score\"])\n",
    "print(\"correlation_reading/writing:\", correlation)\n",
    "\n",
    "correlation = data[\"math_score\"].corr(data[\"writing_score\"])\n",
    "print(\"correlation math/writing:\", correlation)"
   ]
  },
  {
   "cell_type": "markdown",
   "metadata": {},
   "source": [
    "### Partie 3: Analyse des données ###\n",
    "#### Statistiques pour les femmes ####"
   ]
  },
  {
   "cell_type": "code",
   "execution_count": null,
   "metadata": {},
   "outputs": [],
   "source": [
    "import pandas as pd  \n",
    "\n",
    "data_frame_mental_health = pd.read_csv('Mental_Health_Dataset(1).csv')\n",
    "# On nettoie le dataframe des doublons\n",
    "data_frame_mental_health_clean = data_frame_mental_health.drop_duplicates()\n",
    "# On converti la colonne en format date\n",
    "data_frame_mental_health_clean['Timestamp'] = pd.to_datetime(data_frame_mental_health_clean['Timestamp'])\n",
    "# On créer un nouveau DF à partir du précédent en récupérant uniquement les lignes de l'année 2014\n",
    "df_2014 = data_frame_mental_health_clean.loc[data_frame_mental_health_clean['Timestamp'].dt.year == 2014]\n",
    "# Créatiou d'un colonne Year_month en type period qui nous servira à isoler le mois dans le pivot table\n",
    "df_2014['Year_Month'] = df_2014['Timestamp'].dt.to_period('M')\n",
    "\n",
    "\n",
    "# Création d'un pivot_table avec linstanciation d'une liste de pays en guise de filtre\n",
    "countries = ['United States', 'Poland', 'Australia', 'Canada', 'South Africa', 'Sweden', 'Netherlands']\n",
    "pivot_table = pd.pivot_table(df_2014[df_2014['Country'].isin(countries)],\n",
    "                             index=df_2014['Year_Month'].dt.strftime('%B'),\n",
    "                             columns='Country',\n",
    "                             values='Gender',\n",
    "                             aggfunc=lambda x: sum(x == 'Female'),\n",
    "                             fill_value=0)\n",
    "\n",
    "pivot_table = pivot_table[countries]\n",
    "print(pivot_table)"
   ]
  },
  {
   "cell_type": "markdown",
   "metadata": {},
   "source": [
    "![image.png](tableau1.png)"
   ]
  },
  {
   "cell_type": "markdown",
   "metadata": {},
   "source": [
    "#### Pour les hommes ####"
   ]
  },
  {
   "cell_type": "code",
   "execution_count": null,
   "metadata": {},
   "outputs": [],
   "source": [
    "# Création d'un pivot_table avec linstanciation d'une liste de pays en guise de filtre\n",
    "countries = ['United States', 'Poland', 'Australia', 'Canada', 'South Africa', 'Sweden', 'Netherlands']\n",
    "pivot_table = pd.pivot_table(df_2014[df_2014['Country'].isin(countries)],\n",
    "                             index=df_2014['Year_Month'].dt.strftime('%B'),\n",
    "                             columns='Country',\n",
    "                             values='Gender',\n",
    "                             aggfunc=lambda x: sum(x == 'Male'),\n",
    "                             fill_value=0)\n",
    "\n",
    "pivot_table = pivot_table[countries]\n",
    "print(pivot_table)"
   ]
  },
  {
   "cell_type": "markdown",
   "metadata": {},
   "source": [
    "![image.png](tableau2.png)"
   ]
  },
  {
   "cell_type": "markdown",
   "metadata": {},
   "source": [
    "#### Hommes - 2015 - Self-Employed (yes) ####"
   ]
  },
  {
   "cell_type": "code",
   "execution_count": null,
   "metadata": {},
   "outputs": [],
   "source": [
    "data_frame_mental_health = pd.read_csv('Mental_Health_Dataset(1).csv')\n",
    "# On nettoie le dataframe des doublons\n",
    "data_frame_mental_health_clean = data_frame_mental_health.drop_duplicates()\n",
    "# On converti la colonne en format date\n",
    "data_frame_mental_health_clean['Timestamp'] = pd.to_datetime(data_frame_mental_health_clean['Timestamp'])\n",
    "# On créer un nouveau DF à partir du précédent en récupérant uniquement les lignes de l'année 2014\n",
    "df_2015 = data_frame_mental_health_clean.loc[data_frame_mental_health_clean['Timestamp'].dt.year == 2015]\n",
    "# Création d'un colonne Year_month en type period qui nous servira à isoler le mois dans le pivot table\n",
    "df_2015['Year_Month'] = df_2015['Timestamp'].dt.to_period('M')\n",
    "# Création d'un dataframe sans les lignes contenant 'Female'\n",
    "df_2015_male = df_2015[df_2015['Gender'] != 'Female']\n",
    "\n",
    "\n",
    "# # Création d'un pivot_table avec une instanciation d'une liste de pays en guise de filtre\n",
    "countries = ['United States', 'Poland', 'Australia', 'Canada', 'South Africa', 'Sweden', 'Netherlands']\n",
    "pivot_table = pd.pivot_table(df_2014[df_2014['Country'].isin(countries)],\n",
    "                             index=df_2014['Year_Month'].dt.strftime('%B'),\n",
    "                             columns='Country',\n",
    "                             values='self_employed',\n",
    "                             aggfunc=lambda x: sum(x == 'Yes'),\n",
    "                             fill_value=0)\n",
    "\n",
    "pivot_table = pivot_table[countries]\n",
    "display(pivot_table)"
   ]
  },
  {
   "cell_type": "markdown",
   "metadata": {},
   "source": [
    "![image.png](tableau3.png)"
   ]
  },
  {
   "cell_type": "markdown",
   "metadata": {},
   "source": [
    "#### Hommes - 2015 - Self-Employed (no) ####"
   ]
  },
  {
   "cell_type": "code",
   "execution_count": null,
   "metadata": {},
   "outputs": [],
   "source": [
    "# Création d'un pivot_table avec une instanciation d'une liste de pays en guise de filtre\n",
    "countries = ['United States', 'Poland', 'Australia', 'Canada', 'South Africa', 'Sweden', 'Netherlands']\n",
    "pivot_table = pd.pivot_table(df_2014[df_2014['Country'].isin(countries)],\n",
    "                             index=df_2014['Year_Month'].dt.strftime('%B'),\n",
    "                             columns='Country',\n",
    "                             values='self_employed',\n",
    "                             aggfunc=lambda x: sum(x == 'No'),\n",
    "                             fill_value=0)\n",
    "\n",
    "pivot_table = pivot_table[countries]\n",
    "display(pivot_table)"
   ]
  },
  {
   "cell_type": "markdown",
   "metadata": {},
   "source": [
    "![image.png](tableau4.png)"
   ]
  },
  {
   "cell_type": "markdown",
   "metadata": {},
   "source": [
    "#### Hommes - 2015 - Family history (no) ####"
   ]
  },
  {
   "cell_type": "code",
   "execution_count": null,
   "metadata": {},
   "outputs": [],
   "source": [
    "countries = ['United States', 'Poland', 'Australia', 'Canada', 'South Africa', 'Sweden', 'Netherlands']\n",
    "pivot_table = pd.pivot_table(df_2014[df_2014['Country'].isin(countries)],\n",
    "                             index=df_2014['Year_Month'].dt.strftime('%B'),\n",
    "                             columns='Country',\n",
    "                             values='family_history',\n",
    "                             aggfunc=lambda x: sum(x == 'No'),\n",
    "                             fill_value=0)\n",
    "\n",
    "pivot_table = pivot_table[countries]\n",
    "display(pivot_table)"
   ]
  },
  {
   "cell_type": "markdown",
   "metadata": {},
   "source": [
    "![image.png](tableau5.png)"
   ]
  },
  {
   "cell_type": "markdown",
   "metadata": {},
   "source": [
    "#### Hommes - 2015 - Family history (Yes) ####"
   ]
  },
  {
   "cell_type": "code",
   "execution_count": null,
   "metadata": {},
   "outputs": [],
   "source": [
    "countries = ['United States', 'Poland', 'Australia', 'Canada', 'South Africa', 'Sweden', 'Netherlands']\n",
    "pivot_table = pd.pivot_table(df_2014[df_2014['Country'].isin(countries)],\n",
    "                             index=df_2014['Year_Month'].dt.strftime('%B'),\n",
    "                             columns='Country',\n",
    "                             values='family_history',\n",
    "                             aggfunc=lambda x: sum(x == 'Yes'),\n",
    "                             fill_value=0)\n",
    "\n",
    "pivot_table = pivot_table[countries]\n",
    "display(pivot_table)"
   ]
  },
  {
   "cell_type": "markdown",
   "metadata": {},
   "source": [
    "![image.png](tableau6.png)"
   ]
  }
 ],
 "metadata": {
  "kernelspec": {
   "display_name": "Python 3",
   "language": "python",
   "name": "python3"
  },
  "language_info": {
   "codemirror_mode": {
    "name": "ipython",
    "version": 3
   },
   "file_extension": ".py",
   "mimetype": "text/x-python",
   "name": "python",
   "nbconvert_exporter": "python",
   "pygments_lexer": "ipython3",
   "version": "3.12.1"
  }
 },
 "nbformat": 4,
 "nbformat_minor": 2
}
