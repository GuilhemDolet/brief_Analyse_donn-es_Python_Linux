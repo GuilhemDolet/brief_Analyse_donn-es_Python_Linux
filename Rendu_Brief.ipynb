{
 "cells": [
  {
   "cell_type": "markdown",
   "metadata": {},
   "source": [
    "## Partie 1 : Chargement et Exploration des Données ##\n",
    "\n",
    "- Filtre 1: basées aux USA\n",
    "- Filtre 2: Change Habits (No)\n",
    "- Filtre 3: Mood swings (High)\n",
    "- Filtre 4: Work Interest (Maybe)\n",
    "- Filtre 5: Social weakness (Yes)\n",
    "\n",
    "Fait sur VIM"
   ]
  },
  {
   "cell_type": "code",
   "execution_count": null,
   "metadata": {},
   "outputs": [],
   "source": [
    "#!/bin/bash\n",
    "\n",
    "# SET UP : \n",
    "import pandas as pd\n",
    "csv_file_path = '/home/guilhem/Téléchargements/Mental_Health_Dataset(1).csv'\n",
    "data = pd.read_csv(csv_file_path)\n",
    "\n",
    "# Nettoyage du dataset => suppression des doublons\n",
    "data_clean = data.drop_duplicates()\n",
    "\n",
    "# 1er filtre : par pays (United States)\n",
    "\n",
    "nombre_personne_US = data_clean['Country'].value_counts().get('United States', 0)\n",
    "print(\"Le nombre de personnes vivant aux états-unis:\", nombre_personne_US)\n",
    "\n",
    "# 2eme filtre : change habits \n",
    "\n",
    "change_habits = data_clean['Changes_Habits'].value_counts().get('No', 0)\n",
    "print(\"Le nombre de personnes qui ne changent pas leur habitudes: \", change_habits)\n",
    "\n",
    "# 3eme filtre : Mood Swings (High)\n",
    "\n",
    "mood_swing = data_clean['Mood_Swings'].value_counts().get('High', 0)\n",
    "print(\"Le nombre de personnes avec beaucoup d'humeur changeant:\", mood_swing)\n",
    "\n",
    "# 4eme filtre : Work Interest (Maybe)\n",
    "\n",
    "work_interest = data_clean['Work_Interest'].value_counts().get('Maybe', 0)\n",
    "print(\"Le nombre de personnes avec un interêt pour le travail: \", work_interest)\n",
    "\n",
    "# 5eme filtre : Social weakness (Yes)\n",
    "\n",
    "social_weakness = data_clean['Social_Weakness'].value_counts().get('Yes', 0)\n",
    "print(\"Le nombre de personnnes avec une faiblesse social: \", social_weakness)\n"
   ]
  },
  {
   "cell_type": "markdown",
   "metadata": {},
   "source": [
    "### Partie 2 : Filtrage des données et calculs statistiques ###\n",
    "\n",
    "- Moyenne\n",
    "- Médiane\n",
    "- Mode\n",
    "- Variance\n",
    "- Ecart-Type\n",
    "- Corrélation\n",
    "\n",
    "Fait avec gedit"
   ]
  },
  {
   "cell_type": "code",
   "execution_count": null,
   "metadata": {},
   "outputs": [],
   "source": [
    "#!/usr/bin/env python3\n",
    "import numpy as np  # Importe la bibliothèque NumPy pour le calcul numérique\n",
    "import pandas as pd  # Importe la bibliothèque Pandas pour la manipulation des données\n",
    "\n",
    "# Chemin du fichier CSV contenant les données de performance des étudiants\n",
    "csv_file_path = '/home/safe/tpss/data/study_performance.csv'\n",
    "\n",
    "# Lecture des données à partir du fichier CSV dans un DataFrame Pandas appelé 'data'\n",
    "data = pd.read_csv(csv_file_path)\n",
    "\n",
    "# Affichage des premières lignes du DataFrame 'data'\n",
    "print(data.head())\n",
    "\n",
    "# Calcul de la moyenne des scores en mathématiques\n",
    "moyenne_math_score = data[\"math_score\"].mean()\n",
    "print(\"Moyenne des scores en mathématiques :\", moyenne_math_score)\n",
    "\n",
    "# Calcul de la moyenne des scores en lecture\n",
    "moyenne_reading_score = data[\"reading_score\"].mean()\n",
    "print(\"Moyenne des scores en lecture :\", moyenne_reading_score)\n",
    "\n",
    "# Calcul de la moyenne des scores en écriture\n",
    "moyenne_writing_score = data[\"writing_score\"].mean()\n",
    "print(\"Moyenne des scores en écriture :\", moyenne_writing_score)\n",
    "\n",
    "# Calcul de la médiane des scores en mathématiques\n",
    "median_math_score = data[\"math_score\"].median()\n",
    "print(\"Médiane des scores en mathématiques :\", median_math_score)\n",
    "\n",
    "# Calcul de la médiane des scores en lecture\n",
    "median_reading_score = data[\"reading_score\"].median()\n",
    "print(\"Médiane des scores en lecture :\", median_reading_score)\n",
    "\n",
    "# Calcul de la médiane des scores en écriture\n",
    "median_writing_score = data[\"writing_score\"].median()\n",
    "print(\"Médiane des scores en écriture :\", median_writing_score)\n",
    "\n",
    "# Calcul du mode des scores en mathématiques\n",
    "mode_math_score = data[\"math_score\"].mode()\n",
    "print(\"Mode des scores en mathématiques :\", mode_math_score)\n",
    "\n",
    "# Calcul du mode des scores en lecture\n",
    "mode_reading_score = data[\"reading_score\"].mode()\n",
    "print(\"Mode des scores en lecture :\", mode_reading_score)\n",
    "\n",
    "# Calcul du mode des scores en écriture\n",
    "mode_writing_score = data[\"writing_score\"].mode()\n",
    "print(\"Mode des scores en écriture :\", mode_writing_score)\n",
    "\n",
    "# Calcul de la variance des scores en mathématiques\n",
    "variance_math_score = data[\"math_score\"].var()\n",
    "print(\"Variance des scores en mathématiques :\", variance_math_score)\n",
    "\n",
    "# Calcul de la variance des scores en lecture\n",
    "variance_reading_score = data[\"reading_score\"].var()\n",
    "print(\"Variance des scores en lecture :\", variance_reading_score)\n",
    "\n",
    "# Calcul de la variance des scores en écriture\n",
    "variance_writing_score = data[\"writing_score\"].var()\n",
    "print(\"Variance des scores en écriture :\", variance_writing_score)\n",
    "\n",
    "# Calcul de l'écart type des scores en mathématiques\n",
    "ecarttype_math_score = data[\"math_score\"].std()\n",
    "print(\"Écart type des scores en mathématiques :\", ecarttype_math_score)\n",
    "\n",
    "# Calcul de l'écart type des scores en lecture\n",
    "ecarttype_reading_score = data[\"reading_score\"].std()\n",
    "print(\"Écart type des scores en lecture :\", ecarttype_reading_score)\n",
    "\n",
    "# Calcul de l'écart type des scores en écriture\n",
    "ecarttype_writing_score = data[\"writing_score\"].std()\n",
    "print(\"Écart type des scores en écriture :\", ecarttype_writing_score)\n",
    "\n",
    "# Calcul de la corrélation entre les scores en mathématiques et en lecture\n",
    "correlation_math_reading = data[\"math_score\"].corr(data[\"reading_score\"])\n",
    "print(\"Corrélation entre les scores en mathématiques et en lecture :\", correlation_math_reading)\n",
    "\n",
    "# Calcul de la corrélation entre les scores en lecture et en écriture\n",
    "correlation_reading_writing = data[\"reading_score\"].corr(data[\"writing_score\"])\n",
    "print(\"Corrélation entre les scores en lecture et en écriture :\", correlation_reading_writing)\n",
    "\n",
    "# Calcul de la corrélation entre les scores en mathématiques et en écriture\n",
    "correlation_math_writing = data[\"math_score\"].corr(data[\"writing_score\"])\n",
    "print(\"Corrélation entre les scores en mathématiques et en écriture :\", correlation_math_writing)\n"
   ]
  },
  {
   "cell_type": "markdown",
   "metadata": {},
   "source": [
    "### Partie 3: Analyse des données ###\n",
    "#### Statistiques pour les femmes ####"
   ]
  },
  {
   "cell_type": "code",
   "execution_count": null,
   "metadata": {},
   "outputs": [],
   "source": [
    "import pandas as pd  \n",
    "\n",
    "data_frame_mental_health = pd.read_csv('Mental_Health_Dataset(1).csv')\n",
    "# On nettoie le dataframe des doublons\n",
    "data_frame_mental_health_clean = data_frame_mental_health.drop_duplicates()\n",
    "# On converti la colonne en format date\n",
    "data_frame_mental_health_clean['Timestamp'] = pd.to_datetime(data_frame_mental_health_clean['Timestamp'])\n",
    "# On créer un nouveau DF à partir du précédent en récupérant uniquement les lignes de l'année 2014\n",
    "df_2014 = data_frame_mental_health_clean.loc[data_frame_mental_health_clean['Timestamp'].dt.year == 2014]\n",
    "# Créatiou d'un colonne Year_month en type period qui nous servira à isoler le mois dans le pivot table\n",
    "df_2014['Year_Month'] = df_2014['Timestamp'].dt.to_period('M')\n",
    "\n",
    "\n",
    "# Création d'un pivot_table avec linstanciation d'une liste de pays en guise de filtre\n",
    "countries = ['United States', 'Poland', 'Australia', 'Canada', 'South Africa', 'Sweden', 'Netherlands']\n",
    "pivot_table = pd.pivot_table(df_2014[df_2014['Country'].isin(countries)],\n",
    "                             index=df_2014['Year_Month'].dt.strftime('%B'),\n",
    "                             columns='Country',\n",
    "                             values='Gender',\n",
    "                             aggfunc=lambda x: sum(x == 'Female'),\n",
    "                             fill_value=0)\n",
    "\n",
    "pivot_table = pivot_table[countries]\n",
    "print(pivot_table)"
   ]
  },
  {
   "cell_type": "markdown",
   "metadata": {},
   "source": [
    "![image.png](tableau1.png)"
   ]
  },
  {
   "cell_type": "markdown",
   "metadata": {},
   "source": [
    "#### Pour les hommes ####"
   ]
  },
  {
   "cell_type": "code",
   "execution_count": null,
   "metadata": {},
   "outputs": [],
   "source": [
    "# Création d'un pivot_table avec linstanciation d'une liste de pays en guise de filtre\n",
    "countries = ['United States', 'Poland', 'Australia', 'Canada', 'South Africa', 'Sweden', 'Netherlands']\n",
    "pivot_table = pd.pivot_table(df_2014[df_2014['Country'].isin(countries)],\n",
    "                             index=df_2014['Year_Month'].dt.strftime('%B'),\n",
    "                             columns='Country',\n",
    "                             values='Gender',\n",
    "                             aggfunc=lambda x: sum(x == 'Male'),\n",
    "                             fill_value=0)\n",
    "\n",
    "pivot_table = pivot_table[countries]\n",
    "print(pivot_table)"
   ]
  },
  {
   "cell_type": "markdown",
   "metadata": {},
   "source": [
    "![image.png](tableau2.png)"
   ]
  },
  {
   "cell_type": "markdown",
   "metadata": {},
   "source": [
    "#### Hommes - 2015 - Self-Employed (yes) ####"
   ]
  },
  {
   "cell_type": "code",
   "execution_count": null,
   "metadata": {},
   "outputs": [],
   "source": [
    "data_frame_mental_health = pd.read_csv('Mental_Health_Dataset(1).csv')\n",
    "# On nettoie le dataframe des doublons\n",
    "data_frame_mental_health_clean = data_frame_mental_health.drop_duplicates()\n",
    "# On converti la colonne en format date\n",
    "data_frame_mental_health_clean['Timestamp'] = pd.to_datetime(data_frame_mental_health_clean['Timestamp'])\n",
    "# On créer un nouveau DF à partir du précédent en récupérant uniquement les lignes de l'année 2014\n",
    "df_2015 = data_frame_mental_health_clean.loc[data_frame_mental_health_clean['Timestamp'].dt.year == 2015]\n",
    "# Création d'un colonne Year_month en type period qui nous servira à isoler le mois dans le pivot table\n",
    "df_2015['Year_Month'] = df_2015['Timestamp'].dt.to_period('M')\n",
    "# Création d'un dataframe sans les lignes contenant 'Female'\n",
    "df_2015_male = df_2015[df_2015['Gender'] != 'Female']\n",
    "\n",
    "\n",
    "# # Création d'un pivot_table avec une instanciation d'une liste de pays en guise de filtre\n",
    "countries = ['United States', 'Poland', 'Australia', 'Canada', 'South Africa', 'Sweden', 'Netherlands']\n",
    "pivot_table = pd.pivot_table(df_2014[df_2014['Country'].isin(countries)],\n",
    "                             index=df_2014['Year_Month'].dt.strftime('%B'),\n",
    "                             columns='Country',\n",
    "                             values='self_employed',\n",
    "                             aggfunc=lambda x: sum(x == 'Yes'),\n",
    "                             fill_value=0)\n",
    "\n",
    "pivot_table = pivot_table[countries]\n",
    "display(pivot_table)"
   ]
  },
  {
   "cell_type": "markdown",
   "metadata": {},
   "source": [
    "![image.png](tableau3.png)"
   ]
  },
  {
   "cell_type": "markdown",
   "metadata": {},
   "source": [
    "#### Hommes - 2015 - Self-Employed (no) ####"
   ]
  },
  {
   "cell_type": "code",
   "execution_count": null,
   "metadata": {},
   "outputs": [],
   "source": [
    "# Création d'un pivot_table avec une instanciation d'une liste de pays en guise de filtre\n",
    "countries = ['United States', 'Poland', 'Australia', 'Canada', 'South Africa', 'Sweden', 'Netherlands']\n",
    "pivot_table = pd.pivot_table(df_2014[df_2014['Country'].isin(countries)],\n",
    "                             index=df_2014['Year_Month'].dt.strftime('%B'),\n",
    "                             columns='Country',\n",
    "                             values='self_employed',\n",
    "                             aggfunc=lambda x: sum(x == 'No'),\n",
    "                             fill_value=0)\n",
    "\n",
    "pivot_table = pivot_table[countries]\n",
    "display(pivot_table)"
   ]
  },
  {
   "cell_type": "markdown",
   "metadata": {},
   "source": [
    "![image.png](tableau4.png)"
   ]
  },
  {
   "cell_type": "markdown",
   "metadata": {},
   "source": [
    "#### Hommes - 2015 - Family history (no) ####"
   ]
  },
  {
   "cell_type": "code",
   "execution_count": null,
   "metadata": {},
   "outputs": [],
   "source": [
    "countries = ['United States', 'Poland', 'Australia', 'Canada', 'South Africa', 'Sweden', 'Netherlands']\n",
    "pivot_table = pd.pivot_table(df_2014[df_2014['Country'].isin(countries)],\n",
    "                             index=df_2014['Year_Month'].dt.strftime('%B'),\n",
    "                             columns='Country',\n",
    "                             values='family_history',\n",
    "                             aggfunc=lambda x: sum(x == 'No'),\n",
    "                             fill_value=0)\n",
    "\n",
    "pivot_table = pivot_table[countries]\n",
    "display(pivot_table)"
   ]
  },
  {
   "cell_type": "markdown",
   "metadata": {},
   "source": [
    "![image.png](tableau5.png)"
   ]
  },
  {
   "cell_type": "markdown",
   "metadata": {},
   "source": [
    "#### Hommes - 2015 - Family history (Yes) ####"
   ]
  },
  {
   "cell_type": "code",
   "execution_count": null,
   "metadata": {},
   "outputs": [],
   "source": [
    "countries = ['United States', 'Poland', 'Australia', 'Canada', 'South Africa', 'Sweden', 'Netherlands']\n",
    "pivot_table = pd.pivot_table(df_2014[df_2014['Country'].isin(countries)],\n",
    "                             index=df_2014['Year_Month'].dt.strftime('%B'),\n",
    "                             columns='Country',\n",
    "                             values='family_history',\n",
    "                             aggfunc=lambda x: sum(x == 'Yes'),\n",
    "                             fill_value=0)\n",
    "\n",
    "pivot_table = pivot_table[countries]\n",
    "display(pivot_table)"
   ]
  },
  {
   "cell_type": "markdown",
   "metadata": {},
   "source": [
    "![image.png](tableau6.png)"
   ]
  }
 ],
 "metadata": {
  "kernelspec": {
   "display_name": "Python 3",
   "language": "python",
   "name": "python3"
  },
  "language_info": {
   "codemirror_mode": {
    "name": "ipython",
    "version": 3
   },
   "file_extension": ".py",
   "mimetype": "text/x-python",
   "name": "python",
   "nbconvert_exporter": "python",
   "pygments_lexer": "ipython3",
   "version": "3.12.1"
  }
 },
 "nbformat": 4,
 "nbformat_minor": 2
}
