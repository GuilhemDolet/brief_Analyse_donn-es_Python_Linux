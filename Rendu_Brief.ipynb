{
 "cells": [
  {
   "cell_type": "markdown",
   "metadata": {},
   "source": [
    "## Partie 1 : Chargement et Exploration des Données ##\n",
    "\n",
    "- Filtre 1: basées aux USA\n",
    "- Filtre 2: Change Habits (No)\n",
    "- Filtre 3: Mood swings (High)\n",
    "- Filtre 4: Work Interest (Maybe)\n",
    "- Filtre 5: Social weakness (Yes)\n",
    "\n",
    "Fait sur VIM"
   ]
  },
  {
   "cell_type": "code",
   "execution_count": null,
   "metadata": {},
   "outputs": [],
   "source": [
    "#!/bin/bash\n",
    "\n",
    "# SET UP : \n",
    "import pandas as pd\n",
    "csv_file_path = '/home/guilhem/Téléchargements/Mental_Health_Dataset(1).csv'\n",
    "data = pd.read_csv(csv_file_path)\n",
    "\n",
    "# Nettoyage du dataset => suppression des doublons\n",
    "data_clean = data.drop_duplicates()\n",
    "\n",
    "# 1er filtre : par pays (United States)\n",
    "\n",
    "nombre_personne_US = data_clean['Country'].value_counts().get('United States', 0)\n",
    "print(\"Le nombre de personnes vivant aux états-unis:\", nombre_personne_US)\n",
    "\n",
    "# 2eme filtre : change habits \n",
    "\n",
    "change_habits = data_clean['Changes_Habits'].value_counts().get('No', 0)\n",
    "print(\"Le nombre de personnes qui ne changent pas leur habitudes: \", change_habits)\n",
    "\n",
    "# 3eme filtre : Mood Swings (High)\n",
    "\n",
    "mood_swing = data_clean['Mood_Swings'].value_counts().get('High', 0)\n",
    "print(\"Le nombre de personnes avec beaucoup d'humeur changeant:\", mood_swing)\n",
    "\n",
    "# 4eme filtre : Work Interest (Maybe)\n",
    "\n",
    "work_interest = data_clean['Work_Interest'].value_counts().get('Maybe', 0)\n",
    "print(\"Le nombre de personnes avec un interêt pour le travail: \", work_interest)\n",
    "\n",
    "# 5eme filtre : Social weakness (Yes)\n",
    "\n",
    "social_weakness = data_clean['Social_Weakness'].value_counts().get('Yes', 0)\n",
    "print(\"Le nombre de personnnes avec une faiblesse social: \", social_weakness)\n"
   ]
  },
  {
   "cell_type": "markdown",
   "metadata": {},
   "source": [
    "### Partie 2 : Filtrage des données et calculs statistiques ###\n",
    "\n",
    "- Moyenne\n",
    "- Médiane\n",
    "- Mode\n",
    "- Variance\n",
    "- Ecart-Type\n",
    "- Corrélation\n",
    "\n",
    "Fait gedit"
   ]
  },
  {
   "cell_type": "code",
   "execution_count": null,
   "metadata": {},
   "outputs": [],
   "source": []
  },
  {
   "cell_type": "markdown",
   "metadata": {},
   "source": [
    "### Partie 3: Analyse des données ###\n",
    "#### Statistiques pour les femmes ####"
   ]
  },
  {
   "cell_type": "code",
   "execution_count": null,
   "metadata": {},
   "outputs": [],
   "source": []
  }
 ],
 "metadata": {
  "kernelspec": {
   "display_name": "Python 3",
   "language": "python",
   "name": "python3"
  },
  "language_info": {
   "codemirror_mode": {
    "name": "ipython",
    "version": 3
   },
   "file_extension": ".py",
   "mimetype": "text/x-python",
   "name": "python",
   "nbconvert_exporter": "python",
   "pygments_lexer": "ipython3",
   "version": "3.12.1"
  }
 },
 "nbformat": 4,
 "nbformat_minor": 2
}
